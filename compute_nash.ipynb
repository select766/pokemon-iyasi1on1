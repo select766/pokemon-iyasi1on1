{
 "cells": [
  {
   "cell_type": "code",
   "execution_count": null,
   "id": "ef7125a9-bc87-44c9-afa3-3b8c8d633226",
   "metadata": {},
   "outputs": [],
   "source": [
    "import numpy as np\n",
    "import pickle\n",
    "import matplotlib.pyplot as plt\n",
    "import matplotlib_fontja # グラフに日本語を表示するのに必要\n",
    "import nashpy as nash\n",
    "from pokemon_iyasi1on1.db import get_species\n",
    "from pokemon_iyasi1on1.model import NatureTarget, Poke, PokeBreeding, PokeStrategy"
   ]
  },
  {
   "cell_type": "code",
   "execution_count": null,
   "id": "9bb8f771-6f03-4842-987a-f03b00e721c2",
   "metadata": {},
   "outputs": [],
   "source": [
    "import matplotlib\n",
    "matplotlib.rc('pdf', fonttype=42) # フォント埋め込みをする"
   ]
  },
  {
   "cell_type": "code",
   "execution_count": null,
   "id": "1886c609-50ac-465b-a290-0c4708223709",
   "metadata": {},
   "outputs": [],
   "source": [
    "ds = pickle.load(open(\"data/monte_carlo_win_table.pkl\",\"rb\"))"
   ]
  },
  {
   "cell_type": "code",
   "execution_count": null,
   "id": "01cefec3-a38e-40e8-8042-fc3b0413144a",
   "metadata": {},
   "outputs": [],
   "source": [
    "n_breedings = len(ds[\"breedings\"])"
   ]
  },
  {
   "cell_type": "code",
   "execution_count": null,
   "id": "fec48d4f-53e9-45be-8433-bfdbfe2f1768",
   "metadata": {},
   "outputs": [],
   "source": [
    "# 勝率テーブル作成\n",
    "winrates = np.zeros((n_breedings, n_breedings))\n",
    "for match, winrate in ds[\"results\"]:\n",
    "    # 上三角だけ情報が入っている\n",
    "    winrates[match] = winrate\n",
    "winrates += np.tril(1.0 - winrates.T, k=-1) # 下三角を作成、k=-1: 対角成分を除去\n",
    "winrates += np.eye(n_breedings) * 0.5 # 自分自身は勝率0.5"
   ]
  },
  {
   "cell_type": "code",
   "execution_count": null,
   "id": "3a27bd73-f8ae-4e4a-81ad-0530eb378682",
   "metadata": {},
   "outputs": [],
   "source": [
    "# 利得行列に変換(-1~1)\n",
    "payoffs = (winrates - 0.5) * 2"
   ]
  },
  {
   "cell_type": "code",
   "execution_count": null,
   "id": "dedde91c-babe-4071-b294-d492959d5df2",
   "metadata": {},
   "outputs": [],
   "source": [
    "%%time\n",
    "rps = nash.Game(payoffs)\n",
    "strt, _ = rps.linear_program() # 2プレイヤーの戦略が出るが対称なので1つだけ取得"
   ]
  },
  {
   "cell_type": "code",
   "execution_count": null,
   "id": "e9936dff-6cba-48be-9539-6d013536cf73",
   "metadata": {},
   "outputs": [],
   "source": [
    "def breedings_str(b):\n",
    "    s = f\"{get_species(b.no).name.replace('のすがた','')}\"\n",
    "    match b.strategy:\n",
    "        case PokeStrategy.VEST:\n",
    "            s += \",チョッキ\"\n",
    "        case PokeStrategy.LEFTOVER:\n",
    "            s += \",たべのこし\"\n",
    "    s += f\",H{b.ev_hp},A{b.ev_a},B{b.ev_b},S{b.ev_s}\"\n",
    "    match b.nature_up:\n",
    "        case NatureTarget.A:\n",
    "            s += \",A↑\"\n",
    "        case NatureTarget.B:\n",
    "            s += \",B↑\"\n",
    "        case NatureTarget.S:\n",
    "            s += \",S↑\"\n",
    "    match b.nature_down:\n",
    "        case NatureTarget.A:\n",
    "            s += \",A↓\"\n",
    "        case NatureTarget.B:\n",
    "            s += \",B↓\"\n",
    "        case NatureTarget.S:\n",
    "            s += \",S↓\"\n",
    "    if b.ev_s == 0 and b.iv_s == 0 and b.nature_down == NatureTarget.S:\n",
    "        s += \",最遅\"\n",
    "    return s"
   ]
  },
  {
   "cell_type": "code",
   "execution_count": null,
   "id": "ff58bd64-f5ba-439a-9cce-e4571c7210a0",
   "metadata": {},
   "outputs": [],
   "source": [
    "# ナッシュ均衡で選出確率が正の値になった構築を表示\n",
    "for idx in np.argsort(-strt):\n",
    "    if strt[idx] <= 0.0:\n",
    "        continue\n",
    "    s = breedings_str(ds[\"breedings\"][idx])\n",
    "    print(f\"{strt[idx]*100:.2f}%, {s}\")"
   ]
  },
  {
   "cell_type": "code",
   "execution_count": null,
   "id": "60f2cb04-5e19-43b4-bc06-683591b4d9d6",
   "metadata": {},
   "outputs": [],
   "source": [
    "strt_str_list = []\n",
    "strt_idxs = []\n",
    "for idx in np.argsort(-strt):\n",
    "    if strt[idx] <= 0.0:\n",
    "        continue\n",
    "    strt_idxs.append(idx)\n",
    "    s = breedings_str(ds[\"breedings\"][idx])\n",
    "    strt_str_list.append(s)"
   ]
  },
  {
   "cell_type": "code",
   "execution_count": null,
   "id": "d0344a72-4233-4658-bc2e-b777db450265",
   "metadata": {},
   "outputs": [],
   "source": [
    "def display_heatmap(cmap=\"coolwarm\", savefig=None):\n",
    "    \n",
    "    # 戦略の数\n",
    "    n = len(strt_idxs)\n",
    "    \n",
    "    # 空の利得行列を作成\n",
    "    payoff_matrix = payoffs[strt_idxs][:, strt_idxs]\n",
    "    \n",
    "    # ヒートマップを描画\n",
    "    fig, ax = plt.subplots()\n",
    "    cax = ax.matshow(payoff_matrix, cmap=cmap)\n",
    "    plt.colorbar(cax)\n",
    "    \n",
    "    # 軸のラベルを設定\n",
    "    ax.set_xticks(range(n))\n",
    "    ax.set_yticks(range(n))\n",
    "    ax.set_xticklabels(strt_str_list, rotation=90, ha=\"left\")\n",
    "    ax.set_yticklabels(strt_str_list)\n",
    "    \n",
    "    # 数値ラベルを追加\n",
    "    for i in range(n):\n",
    "        for j in range(n):\n",
    "            if cmap == \"coolwarm\":\n",
    "                color = \"black\"\n",
    "            else:\n",
    "                color = 'black' if payoff_matrix[i, j] > -0.1 else 'white'\n",
    "            # 見づらいので消した\n",
    "            # ax.text(j, i, f\"{payoff_matrix[i, j]:.3f}\", ha='center', va='center', color=color)\n",
    "    \n",
    "    plt.title(\"Payoff Matrix of Strategies\")\n",
    "    if savefig:\n",
    "        plt.savefig(savefig, bbox_inches='tight')\n",
    "    plt.show()\n"
   ]
  },
  {
   "cell_type": "code",
   "execution_count": null,
   "id": "7bcaf06f-09c2-435b-ae43-fa1c159a227a",
   "metadata": {},
   "outputs": [],
   "source": [
    "display_heatmap(savefig=\"payoff_nash_strategies.png\")"
   ]
  },
  {
   "cell_type": "code",
   "execution_count": null,
   "id": "71a2c9f0-84b5-4e9b-ad8e-e0e094d35952",
   "metadata": {},
   "outputs": [],
   "source": [
    "# 印刷用に追加した機能"
   ]
  },
  {
   "cell_type": "code",
   "execution_count": null,
   "id": "6224f33b-73ec-44d3-9361-a4b16d5e9e4e",
   "metadata": {},
   "outputs": [],
   "source": [
    "from typing import Dict, Iterable, List, Tuple\n",
    "from pathlib import Path\n",
    "from matplotlib import patheffects as pe\n",
    "\n",
    "\n",
    "def save_figure(fig: plt.Figure, out_base: Path):\n",
    "    out_base.parent.mkdir(parents=True, exist_ok=True)\n",
    "    fig.savefig(out_base.with_suffix(\".png\"), dpi=200, bbox_inches=\"tight\")\n",
    "    fig.savefig(out_base.with_suffix(\".pdf\"), bbox_inches=\"tight\")\n",
    "    plt.close(fig)\n",
    "\n",
    "\n",
    "def _lighten_cmap(base_cmap: str, amount: float = 0.35):\n",
    "    \"\"\"Return a lightened version of the given cmap name.\n",
    "\n",
    "    amount in [0,1]: 0 no change, 1 becomes fully white.\n",
    "    \"\"\"\n",
    "    cmap = plt.get_cmap(base_cmap)\n",
    "    samples = cmap(np.linspace(0, 1, 256))\n",
    "    rgb = samples[:, :3]\n",
    "    rgb = rgb + (1.0 - rgb) * amount\n",
    "    samples[:, :3] = np.clip(rgb, 0, 1)\n",
    "    from matplotlib.colors import LinearSegmentedColormap\n",
    "\n",
    "    return LinearSegmentedColormap.from_list(f\"{cmap.name}_light\", samples)\n",
    "\n",
    "\n",
    "def plot_payoff_heatmap(\n",
    "    matrix: np.ndarray, labels: List[str], title: str, color: bool, out_base: Path\n",
    "):\n",
    "    n = matrix.shape[0]\n",
    "    # size heuristic: base 1.0 inch per cell capped\n",
    "    cell = 0.45 if n <= 18 else 0.35\n",
    "    w = max(6.0, min(14.0, cell * n + 3))\n",
    "    h = max(5.0, min(14.0, cell * n + 3))\n",
    "\n",
    "    fig, ax = plt.subplots(figsize=(w, h))\n",
    "    vlim = max(1.0, float(np.nanmax(np.abs(matrix))))\n",
    "    base = \"RdBu_r\" if color else \"Greys\"\n",
    "    cmap = _lighten_cmap(base, amount=0.35)\n",
    "    norm = plt.Normalize(vmin=-vlim, vmax=vlim)\n",
    "    im = ax.imshow(matrix, cmap=cmap, norm=norm)\n",
    "\n",
    "    # Annotate values if small enough\n",
    "    if n <= 25:\n",
    "        for i in range(n):\n",
    "            for j in range(n):\n",
    "                val = matrix[i, j]\n",
    "                r, g, b, _ = cmap(norm(val))\n",
    "                # Perceived luminance (sRGB):\n",
    "                luminance = 0.2126 * r + 0.7152 * g + 0.0722 * b\n",
    "                txt_color = \"black\" if luminance > 0.55 else \"white\"\n",
    "                stroke = \"white\" if txt_color == \"black\" else \"black\"\n",
    "                txt = ax.text(\n",
    "                    j,\n",
    "                    i,\n",
    "                    f\"{val:.1f}\",\n",
    "                    ha=\"center\",\n",
    "                    va=\"center\",\n",
    "                    fontsize=9,\n",
    "                    color=txt_color,\n",
    "                )\n",
    "                txt.set_path_effects([pe.withStroke(linewidth=1.2, foreground=stroke)])\n",
    "\n",
    "    ax.set_xticks(np.arange(n), labels=labels, rotation=90, ha=\"left\")\n",
    "    ax.xaxis.tick_top()\n",
    "    ax.set_yticks(np.arange(n), labels=labels)\n",
    "    ax.set_xlabel(\"Opponent party\")\n",
    "    ax.set_ylabel(\"Our party\")\n",
    "    # ax.set_title(title)\n",
    "    cbar = fig.colorbar(im, ax=ax, shrink=0.85)\n",
    "    cbar.set_label(\"Payoff\")\n",
    "    fig.tight_layout()\n",
    "    save_figure(fig, out_base)"
   ]
  },
  {
   "cell_type": "code",
   "execution_count": null,
   "id": "5cbf4921-81f7-4cef-901e-3b902e4fb915",
   "metadata": {},
   "outputs": [],
   "source": [
    "matrix = payoff_matrix = payoffs[strt_idxs][:, strt_idxs]"
   ]
  },
  {
   "cell_type": "code",
   "execution_count": null,
   "id": "fe26d9f7-51ba-4432-b6e5-463cef50a6bf",
   "metadata": {},
   "outputs": [],
   "source": [
    "plot_payoff_heatmap(matrix, strt_str_list, \"\", True, Path(\"payoff_nash_strategies_color\"))\n",
    "plot_payoff_heatmap(matrix, strt_str_list, \"\", False, Path(\"payoff_nash_strategies_mono\"))"
   ]
  },
  {
   "cell_type": "code",
   "execution_count": null,
   "id": "b805d6f9-241a-4071-b940-066e4388f08b",
   "metadata": {},
   "outputs": [],
   "source": []
  }
 ],
 "metadata": {
  "kernelspec": {
   "display_name": "Python 3 (ipykernel)",
   "language": "python",
   "name": "python3"
  },
  "language_info": {
   "codemirror_mode": {
    "name": "ipython",
    "version": 3
   },
   "file_extension": ".py",
   "mimetype": "text/x-python",
   "name": "python",
   "nbconvert_exporter": "python",
   "pygments_lexer": "ipython3",
   "version": "3.12.11"
  }
 },
 "nbformat": 4,
 "nbformat_minor": 5
}
